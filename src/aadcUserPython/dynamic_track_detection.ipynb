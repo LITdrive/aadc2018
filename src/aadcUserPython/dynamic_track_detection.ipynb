{
 "cells": [
  {
   "cell_type": "code",
   "execution_count": null,
   "metadata": {
    "collapsed": true
   },
   "outputs": [],
   "source": [
    "import cv2\n",
    "import numpy as np"
   ]
  },
  {
   "cell_type": "code",
   "execution_count": null,
   "metadata": {
    "collapsed": true
   },
   "outputs": [],
   "source": [
    "parkourX0 = 0\n",
    "parkourX1 = 0\n",
    "\n",
    "parkourY0 = 0\n",
    "parkourY1 = 0"
   ]
  },
  {
   "cell_type": "code",
   "execution_count": null,
   "metadata": {},
   "outputs": [],
   "source": [
    "img = cv2.imread('/home/mohamed/star.jpg',0)\n",
    "ret,thresh = cv2.threshold(img,127,255,0)\n",
    "contours,hierarchy, rest = cv2.findContours(thresh, 1, 2)\n",
    "cnt = contours[0]\n",
    "M = cv2.moments(cnt)\n",
    "print M"
   ]
  },
  {
   "cell_type": "code",
   "execution_count": null,
   "metadata": {
    "collapsed": true
   },
   "outputs": [],
   "source": [
    "x,y,w,h = cv2.boundingRect(cnt)\n",
    "cv2.rectangle(img,(x,y),(x+w,y+h),(0,255,0),2)"
   ]
  },
  {
   "cell_type": "code",
   "execution_count": null,
   "metadata": {
    "collapsed": true
   },
   "outputs": [],
   "source": [
    "im = cv2.imread('/home/mohamed/star.jpg')\n",
    "gray=cv2.cvtColor(im,cv2.COLOR_BGR2GRAY)\n",
    "contours,hierarchy, rest = cv2.findContours(gray,cv2.RETR_LIST,cv2.CHAIN_APPROX_SIMPLE)\n",
    "idx =0 \n",
    "for cnt in contours:\n",
    "    idx += 1\n",
    "    x,y,w,h = cv2.boundingRect(cnt)\n",
    "    roi=im[y:y+h,x:x+w]\n",
    "    cv2.imwrite(str(idx) + '.jpg', roi)\n",
    "    #cv2.rectangle(im,(x,y),(x+w,y+h),(200,0,0),2)\n",
    "cv2.imshow('img',im)\n",
    "cv2.waitKey(0)  "
   ]
  },
  {
   "cell_type": "code",
   "execution_count": null,
   "metadata": {
    "collapsed": true
   },
   "outputs": [],
   "source": [
    "from __future__ import print_function\n",
    "import cv2 as cv\n",
    "import numpy as np\n",
    "import argparse\n",
    "import random as rng\n",
    "rng.seed(12345)\n",
    "\n",
    "input_src = \"/home/mohamed/Downloads/scaledMap.png\"\n",
    "def thresh_callback(val):\n",
    "    threshold = val\n",
    "    \n",
    "    canny_output = cv.Canny(src_gray, threshold, threshold * 2)\n",
    "    print(canny_output)\n",
    "    \n",
    "    _, contours, _ = cv.findContours(canny_output, cv.RETR_TREE, cv.CHAIN_APPROX_SIMPLE)\n",
    "    \n",
    "    \n",
    "    contours_poly = [None]*len(contours)\n",
    "    boundRect = [None]*len(contours)\n",
    "    centers = [None]*len(contours)\n",
    "    radius = [None]*len(contours)\n",
    "    for i, c in enumerate(contours):\n",
    "        contours_poly[i] = cv.approxPolyDP(c, 3, True)\n",
    "        boundRect[i] = cv.boundingRect(contours_poly[i])\n",
    "        centers[i], radius[i] = cv.minEnclosingCircle(contours_poly[i])\n",
    "    \n",
    "    \n",
    "    drawing = np.zeros((canny_output.shape[0], canny_output.shape[1], 3), dtype=np.uint8)\n",
    "    \n",
    "    \n",
    "    for i in range(len(contours)):\n",
    "        color = (rng.randint(0,256), rng.randint(0,256), rng.randint(0,256))\n",
    "        cv.drawContours(drawing, contours_poly, i, color)\n",
    "        cv.rectangle(drawing, (int(boundRect[i][0]), int(boundRect[i][1])), \\\n",
    "          (int(boundRect[i][0]+boundRect[i][2]), int(boundRect[i][1]+boundRect[i][3])), color, 2)\n",
    "        cv.circle(drawing, (int(centers[i][0]), int(centers[i][1])), int(radius[i]), color, 2)\n",
    "    \n",
    "    \n",
    "    cv.imshow('Contours', drawing)\n",
    "\n",
    "src = cv.imread(input_src)\n",
    "if src is None:\n",
    "    print('Could not open or find the image:', input_src)\n",
    "    exit(0)\n",
    "# Convert image to gray and blur it\n",
    "src_gray = cv.cvtColor(src, cv.COLOR_BGR2GRAY)\n",
    "src_gray = cv.blur(src_gray, (3,3))\n",
    "source_window = 'Source'\n",
    "cv.namedWindow(source_window)\n",
    "cv.imshow(source_window, src)\n",
    "max_thresh = 255\n",
    "thresh = 50 # initial threshold\n",
    "cv.createTrackbar('Canny thresh:', source_window, thresh, max_thresh, thresh_callback)\n",
    "thresh_callback(thresh)\n",
    "cv.waitKey()"
   ]
  },
  {
   "cell_type": "code",
   "execution_count": null,
   "metadata": {
    "collapsed": true
   },
   "outputs": [],
   "source": [
    "img = cv2.imread('/home/mohamed/road_small')\n",
    "gray = cv2.cvtColor(img, cv2.COLOR_BGR2GRAY)\n",
    " \n",
    "ret,thresh = cv2.threshold(gray,127,255,1)\n",
    " \n",
    "_, contours, _ = cv2.findContours(thresh,1,2)"
   ]
  },
  {
   "cell_type": "code",
   "execution_count": null,
   "metadata": {
    "collapsed": true
   },
   "outputs": [],
   "source": [
    "import cv2\n",
    "import numpy as np\n",
    " \n",
    "image = cv2.imread(\"/home/mohamed/road_small\")\n",
    "copy = image.copy()\n",
    " \n",
    "gray = cv2.cvtColor(image, cv2.COLOR_BGR2GRAY)\n",
    "cv2.imshow('Gray', gray)\n",
    "cv2.waitKey(0)\n",
    " \n",
    "edged = cv2.Canny(gray, 10, 250)\n",
    "cv2.imshow('Edged', edged)\n",
    "cv2.waitKey(0)\n",
    " \n",
    "kernel = np.ones((5, 5), np.uint8)\n",
    " \n",
    "dilation = cv2.dilate(edged, kernel, iterations=1)\n",
    "cv2.imshow('Dilation', dilation)\n",
    "cv2.waitKey(0)\n",
    " \n",
    "closing = cv2.morphologyEx(dilation, cv2.MORPH_CLOSE, kernel)\n",
    "cv2.imshow('Closing', closing)\n",
    "cv2.waitKey(0)\n",
    " \n",
    "(image, cnts, hiers) = cv2.findContours(closing, cv2.RETR_EXTERNAL, cv2.CHAIN_APPROX_SIMPLE)\n",
    " \n",
    "cont = cv2.drawContours(copy, cnts, -1, (0, 0, 0), 1, cv2.LINE_AA)\n",
    "cv2.imshow('Contours', cont)\n",
    "cv2.waitKey(0)\n",
    " \n",
    "mask = np.zeros(cont.shape[:2], dtype=\"uint8\") * 255\n",
    " \n",
    "# Draw the contours on the mask\n",
    "cv2.drawContours(mask, cnts, -1, (255, 255, 255), -1)\n",
    " \n",
    "# remove the contours from the image and show the resulting images\n",
    "img = cv2.bitwise_and(cont, cont, mask=mask)\n",
    "cv2.imshow(\"Mask\", img)\n",
    "cv2.waitKey(0)\n",
    " \n",
    "for c in cnts:\n",
    "    x, y, w, h = cv2.boundingRect(c)\n",
    "    if w > 50 and h > 130:\n",
    "        new_img = img[y:y + h, x:x + w]\n",
    " \n",
    "        cv2.imwrite('Cropped.png', new_img)\n",
    "        cv2.imshow(\"Cropped\", new_img)\n",
    "        cv2.waitKey(0)"
   ]
  },
  {
   "cell_type": "code",
   "execution_count": null,
   "metadata": {
    "collapsed": true
   },
   "outputs": [],
   "source": [
    "import cv2\n",
    "import numpy as np\n",
    "\n",
    "filename = '/home/mohamed/road_small'\n",
    "img = cv2.imread(filename)\n",
    "gray = cv2.cvtColor(img,cv2.COLOR_BGR2GRAY)\n",
    "\n",
    "gray = np.float32(gray)\n",
    "dst = cv2.cornerHarris(gray,10,3,0.04)\n",
    "\n",
    "#result is dilated for marking the corners, not important\n",
    "dst = cv2.dilate(dst,None)\n",
    "\n",
    "# Threshold for an optimal value, it may vary depending on the image.\n",
    "img[dst>0.01*dst.max()]=[0,0,255]\n",
    "\n",
    "cv2.imshow('dst',img)\n",
    "if cv2.waitKey(0) & 0xff == 27:\n",
    "    cv2.destroyAllWindows()"
   ]
  },
  {
   "cell_type": "code",
   "execution_count": null,
   "metadata": {},
   "outputs": [],
   "source": [
    "import cv2\n",
    "import numpy as np\n",
    "\n",
    "image = cv2.imread(\"/home/mohamed/rollover_gold_00235.jpg\")\n",
    "copy = image.copy()\n",
    "\n",
    "gray = cv2.cvtColor(image, cv2.COLOR_BGR2GRAY)\n",
    "blur = cv2.blur(gray, (3,3))\n",
    "edged = cv2.Canny(blur, 10, 250)\n",
    "(image, cnts, hiers) = cv2.findContours(edged, cv2.RETR_EXTERNAL, cv2.CHAIN_APPROX_SIMPLE)\n",
    "\n",
    "biggest_cnt = -1\n",
    "biggest_cnt_size = -1\n",
    "for c in cnts:\n",
    "    if (c.size > biggest_cnt_size):\n",
    "        biggest_cnt_size = c.size\n",
    "        biggest_cnt = c\n",
    "\n",
    "hull = cv2.convexHull(biggest_cnt)\n",
    "approx = cv2.approxPolyDP(hull,20,True)\n",
    "\n",
    "cont = cv2.drawContours(copy, [approx], 0, (0,0,0), 3)\n",
    "cv2.imshow('Contours', cont)\n",
    "cv2.waitKey(0)\n",
    "approx"
   ]
  },
  {
   "cell_type": "code",
   "execution_count": null,
   "metadata": {
    "collapsed": true
   },
   "outputs": [],
   "source": [
    "from __future__ import division\n",
    "\n",
    "height_tiles = 5\n",
    "width_tiles = 4\n",
    "\n",
    "import numpy as np\n",
    "import cv2\n",
    "img = cv2.imread('/home/mohamed/Downloads/scaledMap.png')\n",
    "height, width, _ = img.shape\n",
    "\n",
    "test_input = (533, 200)\n",
    "\n",
    "test_output = (test_input[0] * height_tiles / height, test_input[1] * width_tiles / width)\n",
    "test_output"
   ]
  },
  {
   "cell_type": "code",
   "execution_count": null,
   "metadata": {
    "collapsed": true
   },
   "outputs": [],
   "source": [
    "img = cv2.imread('/home/mohamed/Downloads/scaledMap.png')\n",
    "gray = cv2.cvtColor(img,cv2.COLOR_BGR2GRAY)\n",
    "edges = cv2.Canny(gray,50,150,apertureSize = 3)\n",
    "\n",
    "lines = cv2.HoughLines(edges,1,np.pi/180,200)\n",
    "for rho,theta in lines[0]:\n",
    "    a = np.cos(theta)\n",
    "    b = np.sin(theta)\n",
    "    x0 = a*rho\n",
    "    y0 = b*rho\n",
    "    x1 = int(x0 + 1000*(-b))\n",
    "    y1 = int(y0 + 1000*(a))\n",
    "    x2 = int(x0 - 1000*(-b))\n",
    "    y2 = int(y0 - 1000*(a))\n",
    "\n",
    "    cv2.line(img,(x1,y1),(x2,y2),(0,0,255),2)\n",
    "\n",
    "cv2.imwrite('houghlines3.jpg',img)"
   ]
  },
  {
   "cell_type": "code",
   "execution_count": null,
   "metadata": {},
   "outputs": [],
   "source": [
    "import numpy as np\n",
    "import cv2\n",
    "\n",
    "img = cv2.imread('/home/mohamed/rollover_gold_00235.jpg')\n",
    "gray = cv2.cvtColor(img,cv2.COLOR_BGR2GRAY)\n",
    "edges = cv2.Canny(gray,50,150,apertureSize = 3)\n",
    "minLineLength = 10\n",
    "maxLineGap = 20\n",
    "lines = cv2.HoughLinesP(edges,1,np.pi/180,100,minLineLength,maxLineGap)\n",
    "for onelines in lines:\n",
    "    for x1,y1,x2,y2 in onelines:\n",
    "        cv2.line(img,(x1,y1),(x2,y2),(0,255,0),2)\n",
    "\n",
    "cv2.imwrite('houghlines5.jpg',img)"
   ]
  },
  {
   "cell_type": "code",
   "execution_count": 34,
   "metadata": {},
   "outputs": [
    {
     "name": "stdout",
     "output_type": "stream",
     "text": [
      "[[  7.28597450e-01   3.06133382e-03  -9.49931885e+00]\n",
      " [  3.16077729e-18   7.00280112e-01  -6.30252101e+00]]\n",
      "[ 111.75399121  230.39215686]\n",
      "[[  1.37250000e+00  -6.00000000e-03   1.30000000e+01]\n",
      " [ -6.19490224e-18   1.42800000e+00   9.00000000e+00]\n",
      " [  0.00000000e+00   0.00000000e+00   1.00000000e+00]]\n",
      "[ 164.99999999  338.            1.        ]\n",
      "[[  8.66257376e-01   3.63973688e-03  -1.12941035e+01]\n",
      " [  2.58473798e-16   5.37266059e-01  -4.83539453e+00]\n",
      " [  3.41420777e-04  -3.26691945e-04   1.00000000e+00]]\n"
     ]
    }
   ],
   "source": []
  }
 ],
 "metadata": {
  "kernelspec": {
   "display_name": "Python 3",
   "language": "python",
   "name": "python3"
  },
  "language_info": {
   "codemirror_mode": {
    "name": "ipython",
    "version": 2
   },
   "file_extension": ".py",
   "mimetype": "text/x-python",
   "name": "python",
   "nbconvert_exporter": "python",
   "pygments_lexer": "ipython2",
   "version": "2.7.13"
  }
 },
 "nbformat": 4,
 "nbformat_minor": 2
}
