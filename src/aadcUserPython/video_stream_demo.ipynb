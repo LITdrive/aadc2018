{
 "cells": [
  {
   "cell_type": "code",
   "execution_count": null,
   "metadata": {},
   "outputs": [],
   "source": [
    "import zmq\n",
    "import time\n",
    "import numpy as np\n",
    "import matplotlib.pyplot as plt\n",
    "\n",
    "from IPython import display\n",
    "\n",
    "%matplotlib inline"
   ]
  },
  {
   "cell_type": "code",
   "execution_count": null,
   "metadata": {},
   "outputs": [],
   "source": [
    "# connect to the car\n",
    "context = zmq.Context()\n",
    "socket = context.socket(zmq.SUB)\n",
    "socket.setsockopt_string(zmq.SUBSCRIBE, \"\")\n",
    "socket.setsockopt(zmq.CONFLATE, 1)\n",
    "socket.connect(\"tcp://bob:5556\")"
   ]
  },
  {
   "cell_type": "code",
   "execution_count": null,
   "metadata": {},
   "outputs": [],
   "source": [
    "# RGB24 image\n",
    "SHAPE = (960, 1280, 3)\n",
    "\n",
    "# get an empty view\n",
    "plt.figure(figsize=(10,10))\n",
    "view = plt.imshow(np.zeros(SHAPE))\n",
    "\n",
    "while True:\n",
    "    # receive image\n",
    "    raw = socket.recv()\n",
    "    img = np.frombuffer(raw, dtype=np.uint8).reshape((960, 1280, 3))\n",
    "    \n",
    "    # display image\n",
    "    view.set_data(img)\n",
    "    plt.draw()\n",
    "    display.clear_output(wait=True)\n",
    "    display.display(plt.gcf())\n",
    "    \n",
    "    time.sleep(2)"
   ]
  }
 ],
 "metadata": {
  "kernelspec": {
   "display_name": "Python 3",
   "language": "python",
   "name": "python3"
  },
  "language_info": {
   "codemirror_mode": {
    "name": "ipython",
    "version": 3
   },
   "file_extension": ".py",
   "mimetype": "text/x-python",
   "name": "python",
   "nbconvert_exporter": "python",
   "pygments_lexer": "ipython3",
   "version": "3.6.3"
  }
 },
 "nbformat": 4,
 "nbformat_minor": 2
}
