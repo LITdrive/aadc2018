{
 "cells": [
  {
   "cell_type": "code",
   "execution_count": null,
   "metadata": {},
   "outputs": [],
   "source": [
    "#Jupyter Notebook settings\n",
    "%load_ext autoreload\n",
    "%autoreload 2"
   ]
  },
  {
   "cell_type": "code",
   "execution_count": null,
   "metadata": {},
   "outputs": [],
   "source": [
    "import numpy as np\n",
    "import matplotlib.image as mpimg\n",
    "import scipy as sp\n",
    "import matplotlib.pyplot as plt\n",
    "from lxml import etree\n",
    "from litdrive.roads.road_list import *\n",
    "from litdrive.roads.LITD_RoadManager import *\n",
    "from litdrive.roads.road_access import *"
   ]
  },
  {
   "cell_type": "code",
   "execution_count": null,
   "metadata": {},
   "outputs": [],
   "source": [
    "picture_path=\"../../../configuration_files/maps/aadc2018#test#track#003_litd.jpg\"\n",
    "pickle_path=\"../../../configuration_files/maps/qualifying_2018_litd.pickle\""
   ]
  },
  {
   "cell_type": "code",
   "execution_count": null,
   "metadata": {},
   "outputs": [],
   "source": [
    "rl_full = RoadList()\n",
    "rl_full.loadFromFile(pickle_path)"
   ]
  },
  {
   "cell_type": "code",
   "execution_count": null,
   "metadata": {},
   "outputs": [],
   "source": [
    "test_list=list()\n",
    "test_list.append(rl_full.lanes[29])\n",
    "test_list.append(rl_full.lanes[67])\n",
    "test_list.append(rl_full.lanes[132])\n",
    "test_list.append(rl_full.lanes[189])\n",
    "test_list.append(rl_full.lanes[88])\n",
    "test_list.append(rl_full.lanes[65])\n",
    "test_list.append(rl_full.lanes[150])\n"
   ]
  },
  {
   "cell_type": "code",
   "execution_count": null,
   "metadata": {},
   "outputs": [],
   "source": [
    "rl = RoadList()\n",
    "for key,l in enumerate(test_list):\n",
    "    rl.addLaneElement(l, key+1, None, None)"
   ]
  },
  {
   "cell_type": "code",
   "execution_count": null,
   "metadata": {},
   "outputs": [],
   "source": [
    "#Plot the track on the picture of the map.\n",
    "\n",
    "%matplotlib notebook\n",
    "\n",
    "#pixel per meter\n",
    "pic_ppm=100.0\n",
    "pic_offset_x=0.975\n",
    "pic_offset_y=0.975\n",
    "img_mat=mpimg.imread(picture_path)\n",
    "img_mat=np.flipud(img_mat)\n",
    "\n",
    "plt.figure(figsize=(28.5,14))\n",
    "plt.axis([0, 30*pic_ppm, 0, 16*pic_ppm])\n",
    "\n",
    "plt.imshow(img_mat)\n",
    "\n",
    "#settings to view a junction\n",
    "#plt.axis([0, 2, 4.5, 6.5])\n",
    "\n",
    "#plt.axis([8.5, 10.5, 14.5, 16.5])\n",
    "\n",
    "roads_len=0.0\n",
    "\n",
    "#for key,l in rl.roads.items():\n",
    "#    if(l is not None):\n",
    "#        print(l)\n",
    "\n",
    "for key,l in rl.lanes.items():\n",
    "    if(l is not None):\n",
    "        pts=l.getPixelPointList(pic_ppm,5)\n",
    "        roads_len+=l.calcArcLength()\n",
    "        x=pts[0]+pic_offset_x*pic_ppm\n",
    "        y=pts[1]+pic_offset_y*pic_ppm\n",
    "        plt.plot(x,y, '-')\n",
    "        plt.quiver(x[:-1], y[:-1], x[1:]-x[:-1], y[1:]-y[:-1], scale_units='xy', angles='xy', scale=1)\n",
    "        \n",
    "        \n",
    "        if(True):\n",
    "        \n",
    "        #if(l.is_junction):\n",
    "        #if(key==60 or key==178 or key==64):\n",
    "        \n",
    "        #for the merge lane\n",
    "        #if(l.road_id==36 or l.road_id==110 or l.road_id==158 or l.road_id==171 or l.road_id==172 or l.road_id==173):\n",
    "            #plt.text(x[len(x)//2],y[len(y)//2],str(key), color=\"blue\", size=\"large\")\n",
    "            p1d_dx, p1d_dy= l.calcPolyDerivate()\n",
    "            dy=p1d_dy(0.5)\n",
    "            dx=p1d_dx(0.5)\n",
    "            angle=np.arctan2(dy,dx)-np.pi/2.0\n",
    "            dx=0.6*np.cos(angle)\n",
    "            dy=0.6*np.sin(angle)\n",
    "            plt.annotate(str(key), xy=(x[len(x)//2], y[len(y)//2]), xytext=(x[len(x)//2]+dx*pic_ppm, y[len(y)//2]+dy*pic_ppm),  arrowprops=dict(facecolor='black', shrink=0.05), )\n",
    "        #for i in range(0,len(pts)-1):\n",
    "        #    plt.arrow(pts[0][i],pts[1][i],pts[0][i+1]-pts[0][i],pts[1][i+1]-pts[1][i],,head_width=0.02, head_length=0.02, fc='black', ec='black')\n",
    "\n",
    "print(\"Length is {}\".format(roads_len))\n",
    "#plt.text(xs[1]+0.2,ys[1]+0.2,s)#+'  '+str(degs[3]*180/np.pi))\n",
    "#plt.plot(xs,ys,'g.')"
   ]
  },
  {
   "cell_type": "code",
   "execution_count": null,
   "metadata": {},
   "outputs": [],
   "source": [
    "print(\"[\", end=\"\")\n",
    "for key,l in rl.lanes.items():\n",
    "    print(\"[{}, {}, {}, {}, {}, {}, {}, {}, {}, 0.0, 1.0, False], \".format(key, *tuple(l.x_poly)[::-1], *tuple(l.y_poly)[::-1]), end=\"\")\n",
    "    \n",
    "print(\"]\")"
   ]
  },
  {
   "cell_type": "code",
   "execution_count": null,
   "metadata": {},
   "outputs": [],
   "source": []
  }
 ],
 "metadata": {
  "kernelspec": {
   "display_name": "Python 3",
   "language": "python",
   "name": "python3"
  },
  "language_info": {
   "codemirror_mode": {
    "name": "ipython",
    "version": 3
   },
   "file_extension": ".py",
   "mimetype": "text/x-python",
   "name": "python",
   "nbconvert_exporter": "python",
   "pygments_lexer": "ipython3",
   "version": "3.7.0"
  }
 },
 "nbformat": 4,
 "nbformat_minor": 2
}
