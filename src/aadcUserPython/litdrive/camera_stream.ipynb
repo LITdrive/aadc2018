{
 "cells": [
  {
   "cell_type": "code",
   "execution_count": null,
   "metadata": {},
   "outputs": [],
   "source": [
    "EXPORT_PATH = r\"/home/aadc/share/images/\"\n",
    "\n",
    "import numpy as np\n",
    "import matplotlib as mpl\n",
    "import matplotlib.pyplot as plt\n",
    "\n",
    "from litdrive.zeromq.server import ZmqServer\n",
    "\n",
    "IMAGE_HEIGHT = 960\n",
    "IMAGE_WIDTH = 1280\n",
    "\n",
    "%matplotlib notebook"
   ]
  },
  {
   "cell_type": "code",
   "execution_count": null,
   "metadata": {},
   "outputs": [],
   "source": [
    "def process(image):\n",
    "    a = np.array(image)\n",
    "    mpl.image.imsave('/home/aadc/share/images/pic.png', a)\n",
    "    print(image)\n",
    "    view.set_data(image)\n",
    "    plt.draw()\n",
    "    plt.pause(.1)\n",
    "    \n",
    "    #raise IOError"
   ]
  },
  {
   "cell_type": "code",
   "execution_count": null,
   "metadata": {},
   "outputs": [],
   "source": [
    "# open a server for the filter\n",
    "zmq = ZmqServer(\"tcp://*:5555\", [(\"front\", IMAGE_HEIGHT, IMAGE_WIDTH)])"
   ]
  },
  {
   "cell_type": "code",
   "execution_count": null,
   "metadata": {},
   "outputs": [],
   "source": [
    "# get an empty interactive view for the image\n",
    "plt.ion()\n",
    "plt.figure(figsize=(10, 10))\n",
    "view = plt.imshow(np.ones((IMAGE_HEIGHT, IMAGE_WIDTH, 3)))\n",
    "\n",
    "try:\n",
    "    zmq.connect()\n",
    "    zmq.run(process)\n",
    "finally:\n",
    "    zmq.disconnect()"
   ]
  },
  {
   "cell_type": "code",
   "execution_count": null,
   "metadata": {},
   "outputs": [],
   "source": []
  }
 ],
 "metadata": {
  "kernelspec": {
   "display_name": "Python 3",
   "language": "python",
   "name": "python3"
  },
  "language_info": {
   "codemirror_mode": {
    "name": "ipython",
    "version": 3
   },
   "file_extension": ".py",
   "mimetype": "text/x-python",
   "name": "python",
   "nbconvert_exporter": "python",
   "pygments_lexer": "ipython3",
   "version": "3.6.6"
  }
 },
 "nbformat": 4,
 "nbformat_minor": 2
}
