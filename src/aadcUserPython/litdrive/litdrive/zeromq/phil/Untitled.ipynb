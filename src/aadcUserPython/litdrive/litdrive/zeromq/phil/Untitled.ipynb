{
 "cells": [
  {
   "cell_type": "code",
   "execution_count": 7,
   "metadata": {},
   "outputs": [],
   "source": [
    "import pandas as pd\n",
    "import matplotlib.pyplot as plt\n",
    "import numpy as np\n",
    "SHIFT = np.array([0.18+0j]) #TODO\n",
    "CAR_HEIGHT=60"
   ]
  },
  {
   "cell_type": "code",
   "execution_count": 27,
   "metadata": {},
   "outputs": [
    {
     "data": {
      "image/png": "[encoded data removed]",
      "text/plain": [
       "<Figure size 432x288 with 1 Axes>"
      ]
     },
     "metadata": {},
     "output_type": "display_data"
    }
   ],
   "source": [
    "#load the local areas:\n",
    "df = pd.read_csv('localAOIs.csv',header=None)\n",
    "a = df.values\n",
    "pts = a[:,1]+1j*a[:,2]\n",
    "pts-=pts[0] #everything is relative to the car pos\n",
    "# the first index is front tip of the car --> offset to hinteraxn (backaxle)\n",
    "# has to be shifted by:\n",
    "pts+=np.array([CAR_HEIGHT/200+0j])+SHIFT #front spizzal to hinteraxn\n",
    "localAOIs = pts[1:].reshape(4,-1) #make sure it is devidable by 4\n",
    "if True:\n",
    "    plt.plot(pts.real,pts.imag)\n",
    "\n",
    "#load ares to check:\n",
    "df = pd.read_csv('areas.csv',header=None) #add Property\n",
    "a = df.values\n",
    "ofs = 0\n",
    "areas = a[:,0]+1j*a[:,1]\n",
    "areas=areas.reshape(4,-1)\n",
    "#TODO append if less then 20"
   ]
  }
 ],
 "metadata": {
  "kernelspec": {
   "display_name": "Python 3",
   "language": "python",
   "name": "python3"
  },
  "language_info": {
   "codemirror_mode": {
    "name": "ipython",
    "version": 3
   },
   "file_extension": ".py",
   "mimetype": "text/x-python",
   "name": "python",
   "nbconvert_exporter": "python",
   "pygments_lexer": "ipython3",
   "version": "3.6.4"
  },
  "varInspector": {
   "cols": {
    "lenName": 16,
    "lenType": 16,
    "lenVar": 40
   },
   "kernels_config": {
    "python": {
     "delete_cmd_postfix": "",
     "delete_cmd_prefix": "del ",
     "library": "var_list.py",
     "varRefreshCmd": "print(var_dic_list())"
    },
    "r": {
     "delete_cmd_postfix": ") ",
     "delete_cmd_prefix": "rm(",
     "library": "var_list.r",
     "varRefreshCmd": "cat(var_dic_list()) "
    }
   },
   "types_to_exclude": [
    "module",
    "function",
    "builtin_function_or_method",
    "instance",
    "_Feature"
   ],
   "window_display": false
  }
 },
 "nbformat": 4,
 "nbformat_minor": 2
}
