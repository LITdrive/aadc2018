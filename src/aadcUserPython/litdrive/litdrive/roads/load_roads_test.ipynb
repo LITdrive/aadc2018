{
 "cells": [
  {
   "cell_type": "code",
   "execution_count": null,
   "metadata": {},
   "outputs": [],
   "source": [
    "#Jupyter Notebook settings\n",
    "%load_ext autoreload\n",
    "%autoreload 2"
   ]
  },
  {
   "cell_type": "code",
   "execution_count": null,
   "metadata": {},
   "outputs": [],
   "source": [
    "import numpy as np\n",
    "import matplotlib.image as mpimg\n",
    "import scipy as sp\n",
    "import matplotlib.pyplot as plt\n",
    "from lxml import etree\n",
    "from LITD_RoadList import *\n",
    "from LITD_RoadManager import *\n",
    "from LITD_RoadAccess import *"
   ]
  },
  {
   "cell_type": "code",
   "execution_count": null,
   "metadata": {},
   "outputs": [],
   "source": [
    "rl = RoadList()\n",
    "rl.loadFromFile(\"qualifying_2018_litd.pickle\")"
   ]
  },
  {
   "cell_type": "raw",
   "metadata": {},
   "source": [
    "rl"
   ]
  },
  {
   "cell_type": "code",
   "execution_count": null,
   "metadata": {},
   "outputs": [],
   "source": [
    "#Check, that the lane successors and predecessors are not further appart then 4cm\n",
    "\n",
    "print(\"Checking {} elements, against {} successors and {} predecessors.\".format(len(rl.lanes), len(rl.successors), len(rl.predecessors)))\n",
    "for key,l in rl.lanes.items():\n",
    "    if(l is not None):\n",
    "        x_1=l.x_poly(1.0)\n",
    "        y_1=l.y_poly(1.0)\n",
    "        x_0=l.x_poly(0.0)\n",
    "        y_0=l.y_poly(0.0)\n",
    "        suc_dict=rl.successors[key]\n",
    "        if(suc_dict is not None):\n",
    "            for key_2, suc_id in suc_dict.items():\n",
    "                s=rl.lanes[suc_id]\n",
    "                xs_0=s.x_poly(0.0)\n",
    "                ys_0=s.y_poly(0.0)\n",
    "                dx=abs(x_1-xs_0)\n",
    "                dy=abs(y_1-ys_0)\n",
    "                delta=np.sqrt(dx**2+dy**2)\n",
    "                if(delta>0.04):\n",
    "                    print(\"ERROR: Difference between lane {} and successor {} is dx={} and dy={}!\".format(key,suc_id,dx,dy))\n",
    "        else:\n",
    "            print(\"WARNING: lane {} (road {}) has no successor!\".format(key, l.road_id))\n",
    "        pre_dict=rl.predecessors[key]\n",
    "        if(pre_dict is not None):\n",
    "            for key_2, pre_id in pre_dict.items():\n",
    "                p=rl.lanes[pre_id]\n",
    "                xs_1=p.x_poly(1.0)\n",
    "                ys_1=p.y_poly(1.0)\n",
    "                dx=abs(x_0-xs_1)\n",
    "                dy=abs(y_0-ys_1)\n",
    "                delta=np.sqrt(dx**2+dy**2)\n",
    "                if(delta>0.04):\n",
    "                    print(\"ERROR: Difference between lane {} and predecessor {} is dx={} and dy={}!\".format(key,pre_id,dx,dy))\n",
    "        else:\n",
    "            print(\"WARNING: lane {} (road {}) has no predecessor!\".format(key, l.road_id))\n",
    "            \n",
    "print(\"Done!\")"
   ]
  },
  {
   "cell_type": "code",
   "execution_count": null,
   "metadata": {},
   "outputs": [],
   "source": [
    "lst=getLaneListByDecisions(rl, 201, [RoadDecisions.LEFT, RoadDecisions.RIGHT, RoadDecisions.STRAIGHT, RoadDecisions.RIGHT, RoadDecisions.LEFT], 20)"
   ]
  },
  {
   "cell_type": "code",
   "execution_count": null,
   "metadata": {},
   "outputs": [],
   "source": [
    "print(lst)"
   ]
  },
  {
   "cell_type": "code",
   "execution_count": null,
   "metadata": {},
   "outputs": [],
   "source": []
  }
 ],
 "metadata": {
  "kernelspec": {
   "display_name": "Python 3",
   "language": "python",
   "name": "python3"
  },
  "language_info": {
   "codemirror_mode": {
    "name": "ipython",
    "version": 3
   },
   "file_extension": ".py",
   "mimetype": "text/x-python",
   "name": "python",
   "nbconvert_exporter": "python",
   "pygments_lexer": "ipython3",
   "version": "3.7.0"
  }
 },
 "nbformat": 4,
 "nbformat_minor": 2
}
