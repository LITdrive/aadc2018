{
 "cells": [
  {
   "cell_type": "code",
   "execution_count": null,
   "metadata": {},
   "outputs": [],
   "source": [
    "#Jupyter Notebook settings\n",
    "%load_ext autoreload\n",
    "%autoreload 2"
   ]
  },
  {
   "cell_type": "code",
   "execution_count": null,
   "metadata": {},
   "outputs": [],
   "source": [
    "import numpy as np\n",
    "import matplotlib.image as mpimg\n",
    "import scipy as sp\n",
    "import matplotlib.pyplot as plt\n",
    "from lxml import etree\n",
    "from litdrive.roads.road_list import *\n",
    "from litdrive.roads.LITD_RoadManager import *\n",
    "from litdrive.roads.road_access import *"
   ]
  },
  {
   "cell_type": "code",
   "execution_count": null,
   "metadata": {},
   "outputs": [],
   "source": [
    "picture_path=\"../../../configuration_files/maps/aadc2018#test#track#003_litd.jpg\"\n",
    "pickle_path=\"../../../configuration_files/maps/qualifying_2018_litd.pickle\""
   ]
  },
  {
   "cell_type": "code",
   "execution_count": null,
   "metadata": {},
   "outputs": [],
   "source": [
    "rl = RoadList()\n",
    "rl.loadFromFile(pickle_path)"
   ]
  },
  {
   "cell_type": "code",
   "execution_count": null,
   "metadata": {},
   "outputs": [],
   "source": [
    "#Plot the track on the picture of the map.\n",
    "\n",
    "%matplotlib notebook\n",
    "\n",
    "#pixel per meter\n",
    "pic_ppm=100.0\n",
    "pic_offset_x=0.975\n",
    "pic_offset_y=0.975\n",
    "img_mat=mpimg.imread(picture_path)\n",
    "img_mat=np.flipud(img_mat)\n",
    "\n",
    "plt.figure(figsize=(28.5,14))\n",
    "plt.axis([0, 30*pic_ppm, 0, 16*pic_ppm])\n",
    "\n",
    "plt.imshow(img_mat)\n",
    "\n",
    "#settings to view a junction\n",
    "#plt.axis([0, 2, 4.5, 6.5])\n",
    "\n",
    "#plt.axis([8.5, 10.5, 14.5, 16.5])\n",
    "\n",
    "roads_len=0.0\n",
    "\n",
    "#for key,l in rl.roads.items():\n",
    "#    if(l is not None):\n",
    "#        print(l)\n",
    "\n",
    "for key,l in rl.lanes.items():\n",
    "    if(l is not None):\n",
    "        pts=l.getPixelPointList(pic_ppm,5)\n",
    "        roads_len+=l.calcArcLength()\n",
    "        x=pts[0]+pic_offset_x*pic_ppm\n",
    "        y=pts[1]+pic_offset_y*pic_ppm\n",
    "        plt.plot(x,y, '-')\n",
    "        #plt.quiver(x[:-1], y[:-1], x[1:]-x[:-1], y[1:]-y[:-1], scale_units='xy', angles='xy', scale=1)\n",
    "        \n",
    "        \n",
    "        if(True):\n",
    "        \n",
    "        #if(l.is_junction):\n",
    "        #if(key==60 or key==178 or key==64):\n",
    "        \n",
    "        #for the merge lane\n",
    "        #if(l.road_id==36 or l.road_id==110 or l.road_id==158 or l.road_id==171 or l.road_id==172 or l.road_id==173):\n",
    "            #plt.text(x[len(x)//2],y[len(y)//2],str(key), color=\"blue\", size=\"large\")\n",
    "            p1d_dx, p1d_dy= l.calcPolyDerivate()\n",
    "            dy=p1d_dy(0.5)\n",
    "            dx=p1d_dx(0.5)\n",
    "            angle=np.arctan2(dy,dx)-np.pi/2.0\n",
    "            dx=0.6*np.cos(angle)\n",
    "            dy=0.6*np.sin(angle)\n",
    "            plt.annotate(str(key), xy=(x[len(x)//2], y[len(y)//2]), xytext=(x[len(x)//2]+dx*pic_ppm, y[len(y)//2]+dy*pic_ppm),  arrowprops=dict(facecolor='black', shrink=0.05), )\n",
    "        #for i in range(0,len(pts)-1):\n",
    "        #    plt.arrow(pts[0][i],pts[1][i],pts[0][i+1]-pts[0][i],pts[1][i+1]-pts[1][i],,head_width=0.02, head_length=0.02, fc='black', ec='black')\n",
    "\n",
    "print(\"Length is {}\".format(roads_len))\n",
    "#plt.text(xs[1]+0.2,ys[1]+0.2,s)#+'  '+str(degs[3]*180/np.pi))\n",
    "#plt.plot(xs,ys,'g.')\n",
    "\n"
   ]
  },
  {
   "cell_type": "code",
   "execution_count": null,
   "metadata": {},
   "outputs": [],
   "source": [
    "#Check, that the lane successors and predecessors are not further appart then 4cm\n",
    "\n",
    "print(\"Checking {} elements, against {} successors and {} predecessors.\".format(len(rl.lanes), len(rl.successors), len(rl.predecessors)))\n",
    "for key,l in rl.lanes.items():\n",
    "    if(l is not None):\n",
    "        x_1=l.x_poly(1.0)\n",
    "        y_1=l.y_poly(1.0)\n",
    "        x_0=l.x_poly(0.0)\n",
    "        y_0=l.y_poly(0.0)\n",
    "        suc_dict=rl.successors[key]\n",
    "        if(suc_dict is not None):\n",
    "            for key_2, suc_id in suc_dict.items():\n",
    "                s=rl.lanes[suc_id]\n",
    "                xs_0=s.x_poly(0.0)\n",
    "                ys_0=s.y_poly(0.0)\n",
    "                dx=abs(x_1-xs_0)\n",
    "                dy=abs(y_1-ys_0)\n",
    "                delta=np.sqrt(dx**2+dy**2)\n",
    "                if(delta>0.04):\n",
    "                    print(\"ERROR: Difference between lane {} and successor {} is dx={} and dy={}!\".format(key,suc_id,dx,dy))\n",
    "        else:\n",
    "            print(\"WARNING: lane {} (road {}) has no successor!\".format(key, l.road_id))\n",
    "        pre_dict=rl.predecessors[key]\n",
    "        if(pre_dict is not None):\n",
    "            for key_2, pre_id in pre_dict.items():\n",
    "                p=rl.lanes[pre_id]\n",
    "                xs_1=p.x_poly(1.0)\n",
    "                ys_1=p.y_poly(1.0)\n",
    "                dx=abs(x_0-xs_1)\n",
    "                dy=abs(y_0-ys_1)\n",
    "                delta=np.sqrt(dx**2+dy**2)\n",
    "                if(delta>0.04):\n",
    "                    print(\"ERROR: Difference between lane {} and predecessor {} is dx={} and dy={}!\".format(key,pre_id,dx,dy))\n",
    "        else:\n",
    "            print(\"WARNING: lane {} (road {}) has no predecessor!\".format(key, l.road_id))\n",
    "            \n",
    "print(\"Done!\")"
   ]
  },
  {
   "cell_type": "code",
   "execution_count": null,
   "metadata": {},
   "outputs": [],
   "source": [
    "lst=getLaneListByDecisions(rl, 201, [RoadDecisions.LEFT, RoadDecisions.RIGHT, RoadDecisions.STRAIGHT, RoadDecisions.RIGHT, RoadDecisions.LEFT], 20)"
   ]
  },
  {
   "cell_type": "code",
   "execution_count": null,
   "metadata": {},
   "outputs": [],
   "source": [
    "print(lst)"
   ]
  },
  {
   "cell_type": "code",
   "execution_count": null,
   "metadata": {},
   "outputs": [],
   "source": []
  }
 ],
 "metadata": {
  "kernelspec": {
   "display_name": "Python 3",
   "language": "python",
   "name": "python3"
  },
  "language_info": {
   "codemirror_mode": {
    "name": "ipython",
    "version": 3
   },
   "file_extension": ".py",
   "mimetype": "text/x-python",
   "name": "python",
   "nbconvert_exporter": "python",
   "pygments_lexer": "ipython3",
   "version": "3.7.0"
  }
 },
 "nbformat": 4,
 "nbformat_minor": 2
}
