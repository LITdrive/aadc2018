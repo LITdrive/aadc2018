{
 "cells": [
  {
   "cell_type": "markdown",
   "metadata": {},
   "source": [
    "# generates a dictonary from the xml for parsing a struct\n",
    "https://docs.python.org/3.7/library/struct.html"
   ]
  },
  {
   "cell_type": "code",
   "execution_count": 1,
   "metadata": {},
   "outputs": [],
   "source": [
    "import xml.etree.ElementTree as ET\n",
    "import pandas as pd\n",
    "#parse the xml\n",
    "tree = ET.parse(r'../../../../description/aadc.description')\n",
    "root = tree.getroot()"
   ]
  },
  {
   "cell_type": "code",
   "execution_count": 2,
   "metadata": {},
   "outputs": [
    {
     "name": "stdout",
     "output_type": "stream",
     "text": [
      "header {}\n",
      "\tlanguage_version {}\n",
      "\tauthor {}\n",
      "\tdate_creation {}\n",
      "\tdate_change {}\n",
      "\tdescription {}\n",
      "units {}\n",
      "datatypes {}\n",
      "\tdatatype {'description': 'predefined ADTF tBool datatype', 'name': 'tBool', 'size': '8'}\n",
      "\tdatatype {'description': 'predefined ADTF tChar datatype', 'name': 'tChar', 'size': '8'}\n",
      "\tdatatype {'description': 'predefined ADTF tUInt8 datatype', 'name': 'tUInt8', 'size': '8'}\n",
      "\tdatatype {'description': 'predefined ADTF tInt8 datatype', 'name': 'tInt8', 'size': '8'}\n",
      "\tdatatype {'description': 'predefined ADTF tUInt16 datatype', 'name': 'tUInt16', 'size': '16'}\n",
      "\tdatatype {'description': 'predefined ADTF tInt16 datatype', 'name': 'tInt16', 'size': '16'}\n",
      "\tdatatype {'description': 'predefined ADTF tUInt32 datatype', 'name': 'tUInt32', 'size': '32'}\n",
      "\tdatatype {'description': 'predefined ADTF tInt32 datatype', 'name': 'tInt32', 'size': '32'}\n",
      "\tdatatype {'description': 'predefined ADTF tUInt64 datatype', 'name': 'tUInt64', 'size': '64'}\n",
      "\tdatatype {'description': 'predefined ADTF tInt64 datatype', 'name': 'tInt64', 'size': '64'}\n",
      "\tdatatype {'description': 'predefined ADTF tFloat32 datatype', 'name': 'tFloat32', 'size': '32'}\n",
      "\tdatatype {'description': 'predefined ADTF tFloat64 datatype', 'name': 'tFloat64', 'size': '64'}\n",
      "enums {}\n",
      "structs {}\n",
      "\tstruct {'alignment': '1', 'name': 'tJuryStruct', 'version': '1'}\n",
      "\tstruct {'alignment': '1', 'name': 'tDriverStruct', 'version': '1'}\n",
      "\tstruct {'alignment': '1', 'name': 'tSignalValue', 'version': '1'}\n",
      "\tstruct {'alignment': '1', 'name': 'tBoolSignalValue', 'version': '1'}\n",
      "\tstruct {'alignment': '1', 'name': 'tWheelData', 'version': '1'}\n",
      "\tstruct {'alignment': '1', 'name': 'tInerMeasUnitData', 'version': '1'}\n",
      "\tstruct {'alignment': '1', 'name': 'tRoadSignExt', 'version': '1'}\n",
      "\tstruct {'alignment': '1', 'name': 'tPosition', 'version': '1'}\n",
      "\tstruct {'alignment': '1', 'name': 'tObstacle', 'version': '1'}\n",
      "\tstruct {'alignment': '1', 'name': 'tTrafficSign', 'version': '1'}\n",
      "\tstruct {'alignment': '1', 'name': 'tParkingSpace', 'version': '1'}\n",
      "\tstruct {'alignment': '1', 'name': 'tUltrasonicStruct', 'version': '1'}\n",
      "\tstruct {'alignment': '1', 'name': 'tVoltageStruct', 'version': '1'}\n",
      "\tstruct {'alignment': '1', 'name': 'tPolarCoordiante', 'version': '1'}\n",
      "\tstruct {'alignment': '1', 'name': 'tLaserScannerData', 'version': '1'}\n",
      "\tstruct {'alignment': '1', 'name': 'tClassification', 'version': '1'}\n",
      "\tstruct {'alignment': '1', 'name': 'tVirtualPoint', 'version': '1'}\n",
      "streams {}\n"
     ]
    }
   ],
   "source": [
    "for child in root:\n",
    "    print(child.tag, child.attrib, end='\\n')\n",
    "    for ch in child:\n",
    "        print('\\t'+ch.tag, ch.attrib)"
   ]
  },
  {
   "cell_type": "code",
   "execution_count": 3,
   "metadata": {},
   "outputs": [
    {
     "name": "stdout",
     "output_type": "stream",
     "text": [
      "tBool\n",
      "tChar\n",
      "tUInt8\n",
      "tInt8\n",
      "tUInt16\n",
      "tInt16\n",
      "tUInt32\n",
      "tInt32\n",
      "tUInt64\n",
      "tInt64\n",
      "tFloat32\n",
      "tFloat64\n"
     ]
    }
   ],
   "source": [
    "dtypes=[]\n",
    "for a in root.findall('datatypes'):\n",
    "    for b in a.getchildren():\n",
    "        #print( b.get('description').split('typet')[-1] )\n",
    "        #print(b.get('description'), end=' ')\n",
    "        dtypes.append(b.get('name'))\n",
    "        print(b.get('name'))"
   ]
  },
  {
   "cell_type": "code",
   "execution_count": 4,
   "metadata": {},
   "outputs": [],
   "source": [
    "sDic = {\n",
    "    'tBool':   '?',\n",
    "    'tChar':   's',\n",
    "    'tUInt8':  'B', #unsigned char with size 1\n",
    "    'tInt8':   'b', #signed char 1 byte (8bits)\n",
    "    'tUInt16': 'H', #unsigned short integer 2 bytes\n",
    "    'tInt16':  'h', \n",
    "    'tUInt32': 'I', #4 bytes\n",
    "    'tInt32':  'i',\n",
    "    'tUInt64': 'Q',\n",
    "    'tInt64':  'q',\n",
    "    'tFloat32':'f', #float 4bytes\n",
    "    'tFloat64':'d', #double\n",
    "    'tPolarCoordiante': 'ff', #TODO\n",
    "    'tSignalValue': 'If', #TODO\n",
    "}"
   ]
  },
  {
   "cell_type": "code",
   "execution_count": 5,
   "metadata": {},
   "outputs": [
    {
     "data": {
      "text/plain": [
       "set()"
      ]
     },
     "execution_count": 5,
     "metadata": {},
     "output_type": "execute_result"
    }
   ],
   "source": [
    "# something missing?\n",
    "set(dtypes)-sDic.keys()"
   ]
  },
  {
   "cell_type": "code",
   "execution_count": 6,
   "metadata": {},
   "outputs": [
    {
     "data": {
      "text/plain": [
       "dict_keys(['tJuryStruct', 'tDriverStruct', 'tSignalValue', 'tBoolSignalValue', 'tWheelData', 'tInerMeasUnitData', 'tRoadSignExt', 'tPosition', 'tObstacle', 'tTrafficSign', 'tParkingSpace', 'tUltrasonicStruct', 'tVoltageStruct', 'tPolarCoordiante', 'tLaserScannerData', 'tClassification', 'tVirtualPoint'])"
      ]
     },
     "execution_count": 6,
     "metadata": {},
     "output_type": "execute_result"
    }
   ],
   "source": [
    "# go trought elements of structs and save it as DataFrame\n",
    "structs = {}\n",
    "for struct in root.find('structs').getchildren():\n",
    "    elms=[]\n",
    "    for b in struct.getchildren():\n",
    "        #print(b.attrib)\n",
    "        elms.append(b.attrib)\n",
    "    structs[struct.get('name')]=pd.DataFrame(elms)\n",
    "structs.keys()"
   ]
  },
  {
   "cell_type": "code",
   "execution_count": 7,
   "metadata": {},
   "outputs": [
    {
     "data": {
      "text/html": [
       "<div>\n",
       "<style scoped>\n",
       "    .dataframe tbody tr th:only-of-type {\n",
       "        vertical-align: middle;\n",
       "    }\n",
       "\n",
       "    .dataframe tbody tr th {\n",
       "        vertical-align: top;\n",
       "    }\n",
       "\n",
       "    .dataframe thead th {\n",
       "        text-align: right;\n",
       "    }\n",
       "</style>\n",
       "<table border=\"1\" class=\"dataframe\">\n",
       "  <thead>\n",
       "    <tr style=\"text-align: right;\">\n",
       "      <th></th>\n",
       "      <th>alignment</th>\n",
       "      <th>arraysize</th>\n",
       "      <th>byteorder</th>\n",
       "      <th>bytepos</th>\n",
       "      <th>name</th>\n",
       "      <th>type</th>\n",
       "    </tr>\n",
       "  </thead>\n",
       "  <tbody>\n",
       "    <tr>\n",
       "      <th>0</th>\n",
       "      <td>1</td>\n",
       "      <td>1</td>\n",
       "      <td>LE</td>\n",
       "      <td>0</td>\n",
       "      <td>ui32ArduinoTimestamp</td>\n",
       "      <td>tUInt32</td>\n",
       "    </tr>\n",
       "    <tr>\n",
       "      <th>1</th>\n",
       "      <td>1</td>\n",
       "      <td>1</td>\n",
       "      <td>LE</td>\n",
       "      <td>4</td>\n",
       "      <td>f32Value</td>\n",
       "      <td>tFloat32</td>\n",
       "    </tr>\n",
       "  </tbody>\n",
       "</table>\n",
       "</div>"
      ],
      "text/plain": [
       "  alignment arraysize byteorder bytepos                  name      type\n",
       "0         1         1        LE       0  ui32ArduinoTimestamp   tUInt32\n",
       "1         1         1        LE       4              f32Value  tFloat32"
      ]
     },
     "execution_count": 7,
     "metadata": {},
     "output_type": "execute_result"
    }
   ],
   "source": [
    "structs['tSignalValue']"
   ]
  },
  {
   "cell_type": "code",
   "execution_count": 8,
   "metadata": {},
   "outputs": [
    {
     "data": {
      "text/plain": [
       "set()"
      ]
     },
     "execution_count": 8,
     "metadata": {},
     "output_type": "execute_result"
    }
   ],
   "source": [
    "# check again if there are any structs missing in the sDic\n",
    "types = []\n",
    "for k in structs.keys():\n",
    "    for e in list(structs[k].type):\n",
    "        types.append(e)\n",
    "types=[*types]\n",
    "types=set(types)\n",
    "types-sDic.keys() #stuff that is not in sDic"
   ]
  },
  {
   "cell_type": "code",
   "execution_count": 9,
   "metadata": {},
   "outputs": [],
   "source": [
    "# add a 'format' column to the structs\n",
    "for k in structs.keys():\n",
    "    structs[k]['format']=structs[k]['type'].apply(lambda x: sDic[x])\n",
    "    #not that easy --> has to resolve master type first\n",
    "    \n",
    "    #TODO --> try catch.."
   ]
  },
  {
   "cell_type": "code",
   "execution_count": 10,
   "metadata": {},
   "outputs": [
    {
     "data": {
      "text/plain": [
       "'ff'"
      ]
     },
     "execution_count": 10,
     "metadata": {},
     "output_type": "execute_result"
    }
   ],
   "source": [
    "def getFormat(key):\n",
    "    return ''.join(list(structs[key].format))\n",
    "getFormat('tPolarCoordiante')"
   ]
  },
  {
   "cell_type": "code",
   "execution_count": 84,
   "metadata": {},
   "outputs": [
    {
     "data": {
      "text/plain": [
       "{'tJuryStruct': 'bh',\n",
       " 'tDriverStruct': 'hh',\n",
       " 'tSignalValue': 'If',\n",
       " 'tBoolSignalValue': 'I?',\n",
       " 'tWheelData': 'IIb',\n",
       " 'tInerMeasUnitData': 'Ifffffffff',\n",
       " 'tRoadSignExt': 'hfff',\n",
       " 'tPosition': 'fffff',\n",
       " 'tObstacle': 'ff',\n",
       " 'tTrafficSign': 'hfff',\n",
       " 'tParkingSpace': 'hffH',\n",
       " 'tUltrasonicStruct': 'IfIfIfIfIf',\n",
       " 'tVoltageStruct': 'IfIfIfIfIfIfIfIfIfIf',\n",
       " 'tPolarCoordiante': 'ff',\n",
       " 'tLaserScannerData': 'Iff',\n",
       " 'tClassification': 'sQd',\n",
       " 'tVirtualPoint': 'dddd'}"
      ]
     },
     "execution_count": 84,
     "metadata": {},
     "output_type": "execute_result"
    }
   ],
   "source": [
    "# one could also use the overall dictionary to search there ;)\n",
    "formatDict={}\n",
    "for k in structs.keys():\n",
    "    formatDict[k]=getFormat(k)\n",
    "formatDict"
   ]
  },
  {
   "cell_type": "markdown",
   "metadata": {},
   "source": [
    "# try it out"
   ]
  },
  {
   "cell_type": "code",
   "execution_count": 112,
   "metadata": {},
   "outputs": [],
   "source": [
    "import struct\n",
    "def parseZMQ(data,data_types):\n",
    "    \"\"\"\n",
    "        Parses the ZMQ data given the data-types and the data in form of a list\n",
    "        Returns a list\n",
    "    \"\"\"\n",
    "    parsed_data = []\n",
    "    for i, data_type in enumerate(data_types):\n",
    "        parsed_data.append( struct.unpack(formatDict[data_type], data[i]) )\n",
    "    return parsed_data\n",
    "\n",
    "def getDataTypeColumnName(data_type):\n",
    "    \"\"\"\n",
    "        Returns the column names for a data-type\n",
    "    \"\"\"\n",
    "    columns=[]\n",
    "    for tpe,name in zip(structs[data_type].type.values, structs[data_type].name.values):\n",
    "        if tpe in structs.keys():\n",
    "            for n in structs[tpe].name.values:\n",
    "                columns.append(n)\n",
    "        else:\n",
    "            columns.append(name)\n",
    "    return columns\n",
    "\n",
    "def parseToZMQ(data,data_type):\n",
    "    \"\"\"\n",
    "        Parses one \n",
    "        Returns\n",
    "    \"\"\"\n",
    "    parsed_data = struct.pack(formatDict[data_type], *data)\n",
    "    return parsed_data\n"
   ]
  },
  {
   "cell_type": "code",
   "execution_count": 90,
   "metadata": {},
   "outputs": [],
   "source": [
    "cNameDict={}\n",
    "for k in structs.keys():\n",
    "    cNameDict[k]=getDataTypeColumnName(k)"
   ]
  },
  {
   "cell_type": "code",
   "execution_count": 87,
   "metadata": {},
   "outputs": [
    {
     "data": {
      "text/plain": [
       "(['ui32ArduinoTimestamp',\n",
       "  'f32Value',\n",
       "  'ui32ArduinoTimestamp',\n",
       "  'f32Value',\n",
       "  'ui32ArduinoTimestamp',\n",
       "  'f32Value',\n",
       "  'ui32ArduinoTimestamp',\n",
       "  'f32Value',\n",
       "  'ui32ArduinoTimestamp',\n",
       "  'f32Value'],\n",
       " 'IfIfIfIfIf')"
      ]
     },
     "execution_count": 87,
     "metadata": {},
     "output_type": "execute_result"
    }
   ],
   "source": [
    "cNameDict['tUltrasonicStruct'], formatDict['tUltrasonicStruct']"
   ]
  },
  {
   "cell_type": "code",
   "execution_count": 67,
   "metadata": {},
   "outputs": [],
   "source": [
    "import test_data\n",
    "data_types = ['tInerMeasUnitData','tUltrasonicStruct','tUltrasonicStruct']\n",
    "parsed_data =[]\n",
    "for i in range(len(test_data.data)):\n",
    "    parsed_data.append( parseZMQ(test_data.data[0],data_types) )"
   ]
  },
  {
   "cell_type": "code",
   "execution_count": 70,
   "metadata": {},
   "outputs": [],
   "source": [
    "import test_data3\n",
    "\n",
    "data_types = [ 'tInerMeasUnitData','tUltrasonicStruct','tWheelData','tVoltageStruct']\n",
    "\n",
    "parsed_data =[]\n",
    "for i in range(len(test_data3.data)):\n",
    "    parsed_data.append( parseZMQ(test_data3.data[0],data_types) )"
   ]
  },
  {
   "cell_type": "code",
   "execution_count": 116,
   "metadata": {},
   "outputs": [
    {
     "data": {
      "text/plain": [
       "[b'\\xcc\\xe1\\x07\\x00\\x00<\\x1cF', b'\\xce\\xe1\\x07\\x00\\x80\\xfb\\x88G']"
      ]
     },
     "execution_count": 116,
     "metadata": {},
     "output_type": "execute_result"
    }
   ],
   "source": [
    "data_type='tSignalValue'\n",
    "[parseToZMQ([516556, 9999],data_type), parseToZMQ([516558,70135],data_type)]"
   ]
  },
  {
   "cell_type": "markdown",
   "metadata": {},
   "source": [
    "# connect to socket"
   ]
  },
  {
   "cell_type": "code",
   "execution_count": 96,
   "metadata": {},
   "outputs": [
    {
     "ename": "ZMQError",
     "evalue": "Socket operation on non-socket",
     "output_type": "error",
     "traceback": [
      "\u001b[0;31m---------------------------------------------------------------------------\u001b[0m",
      "\u001b[0;31mZMQError\u001b[0m                                  Traceback (most recent call last)",
      "\u001b[0;32m<ipython-input-96-20eab712b910>\u001b[0m in \u001b[0;36m<module>\u001b[0;34m()\u001b[0m\n\u001b[1;32m      6\u001b[0m \u001b[0msocket\u001b[0m \u001b[0;34m=\u001b[0m \u001b[0mcontext\u001b[0m\u001b[0;34m.\u001b[0m\u001b[0msocket\u001b[0m\u001b[0;34m(\u001b[0m\u001b[0mzmq\u001b[0m\u001b[0;34m.\u001b[0m\u001b[0mREP\u001b[0m\u001b[0;34m)\u001b[0m\u001b[0;34m\u001b[0m\u001b[0m\n\u001b[1;32m      7\u001b[0m \u001b[0msocket\u001b[0m\u001b[0;34m.\u001b[0m\u001b[0mclose\u001b[0m\u001b[0;34m(\u001b[0m\u001b[0;34m)\u001b[0m\u001b[0;34m\u001b[0m\u001b[0m\n\u001b[0;32m----> 8\u001b[0;31m \u001b[0msocket\u001b[0m\u001b[0;34m.\u001b[0m\u001b[0mbind\u001b[0m\u001b[0;34m(\u001b[0m\u001b[0;34m\"tcp://*:5555\"\u001b[0m\u001b[0;34m)\u001b[0m\u001b[0;34m\u001b[0m\u001b[0m\n\u001b[0m\u001b[1;32m      9\u001b[0m \u001b[0;34m\u001b[0m\u001b[0m\n\u001b[1;32m     10\u001b[0m \u001b[0;31m# edit data_types\u001b[0m\u001b[0;34m\u001b[0m\u001b[0;34m\u001b[0m\u001b[0m\n",
      "\u001b[0;32mzmq/backend/cython/socket.pyx\u001b[0m in \u001b[0;36mzmq.backend.cython.socket.Socket.bind\u001b[0;34m()\u001b[0m\n",
      "\u001b[0;32mzmq/backend/cython/socket.pyx\u001b[0m in \u001b[0;36mzmq.backend.cython.socket._check_closed\u001b[0;34m()\u001b[0m\n",
      "\u001b[0;31mZMQError\u001b[0m: Socket operation on non-socket"
     ]
    }
   ],
   "source": [
    "import zmq\n",
    "import zmqParser\n",
    "\n",
    "# connect to the car\n",
    "context = zmq.Context()\n",
    "socket = context.socket(zmq.REP)\n",
    "socket.bind(\"tcp://*:5555\")\n",
    "\n",
    "# edit data_types\n",
    "ddTps = [ 'tInerMeasUnitData','tUltrasonicStruct','tWheelData','tVoltageStruct']\n",
    "\n",
    "while True:\n",
    "    bin_msg = socket.recv_multipart()\n",
    "    msg = zmqParser.parseFromZMQ(bin_msg, ddTyps)\n",
    "    print(msg)\n",
    "    \n",
    "    # send same stuff again\n",
    "    ddType = 'tSignalValue'\n",
    "    bin_msg = zmqParser.parseToZMQ(msg, ddTyp)\n",
    "    socket.send_multipart(bin_msg)\n",
    "    \n",
    "socket.close()"
   ]
  }
 ],
 "metadata": {
  "kernelspec": {
   "display_name": "Python 3",
   "language": "python",
   "name": "python3"
  },
  "language_info": {
   "codemirror_mode": {
    "name": "ipython",
    "version": 3
   },
   "file_extension": ".py",
   "mimetype": "text/x-python",
   "name": "python",
   "nbconvert_exporter": "python",
   "pygments_lexer": "ipython3",
   "version": "3.6.6"
  }
 },
 "nbformat": 4,
 "nbformat_minor": 2
}
