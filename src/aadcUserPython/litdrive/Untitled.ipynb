{
 "cells": [
  {
   "cell_type": "code",
   "execution_count": 1,
   "metadata": {},
   "outputs": [],
   "source": [
    "import zmq"
   ]
  },
  {
   "cell_type": "code",
   "execution_count": 2,
   "metadata": {},
   "outputs": [],
   "source": [
    "ctx = zmq.Context()"
   ]
  },
  {
   "cell_type": "code",
   "execution_count": 5,
   "metadata": {},
   "outputs": [],
   "source": [
    "sock = ctx.socket(zmq.REQ)"
   ]
  },
  {
   "cell_type": "code",
   "execution_count": 6,
   "metadata": {},
   "outputs": [],
   "source": [
    "sock.connect(\"tcp://127.0.0.1:5562\")"
   ]
  },
  {
   "cell_type": "code",
   "execution_count": 8,
   "metadata": {},
   "outputs": [],
   "source": [
    "sock.send(b\"hey\")"
   ]
  },
  {
   "cell_type": "code",
   "execution_count": 57,
   "metadata": {},
   "outputs": [],
   "source": [
    "import enum\n",
    "class ManeuverAction(enum.IntEnum):\n",
    "    Undefined = 0\n",
    "    Left = 1\n",
    "    Right = 2\n",
    "    Straight = 4\n",
    "    ParallelParking = 5\n",
    "    CrossParking = 6\n",
    "    PullOutLeft = 7\n",
    "    PullOutRight = 8\n",
    "    MergeLeft = 9\n",
    "    MergeRight = 10\n",
    "    \n",
    "class RoadSignType(enum.IntEnum):\n",
    "    UnmarkedIntersection = 0\n",
    "    StopAndGiveWay = 1\n",
    "    ParkingArea = 2\n",
    "    HaveWay = 3\n",
    "    AheadOnly = 4\n",
    "    GiveWay = 5\n",
    "    PedestrianCrossing = 6\n",
    "    Roundabout = 7\n",
    "    NoOvertaking = 8\n",
    "    NoEntryVehicularTraffic = 9\n",
    "    TestCourseA9 = 10\n",
    "    OneWayStreet = 11\n",
    "    RoadWorks = 12\n",
    "    KMH50 = 13\n",
    "    KMH100 = 14\n",
    "    Undefined = 99\n",
    "    \n",
    "def map_maneuver_string(s):\n",
    "    if s == \"left\":\n",
    "        return ManeuverAction.Left\n",
    "    elif s == \"right\":\n",
    "        return ManeuverAction.Right\n",
    "    elif s == \"straight\":\n",
    "        return ManeuverAction.Straight\n",
    "    elif s == \"parallel_parking\":\n",
    "        return ManeuverAction.ParallelParking\n",
    "    elif s == \"cross_parking\":\n",
    "        return ManeuverAction.CrossParking\n",
    "    elif s == \"pull_out_left\":\n",
    "        return ManeuverAction.PullOutLeft\n",
    "    elif s == \"pull_out_right\":\n",
    "        return ManeuverAction.PullOutRight\n",
    "    elif s == \"merge_left\":\n",
    "        return ManeuverAction.MergeLeft\n",
    "    elif s == \"merge_right\":\n",
    "        return ManeuverAction.MergeRight\n",
    "    else:\n",
    "        return ManeuverAction.Undefined\n",
    "    \n",
    "def map_roadsign_type(i):\n",
    "    if 0 <= i <= 15:\n",
    "        return RoadSignType(i)\n",
    "    else:\n",
    "        return RoadSignType.Undefined\n",
    "    \n",
    "path = r\"C:\\data\\Dropbox\\AADC\\adtf\\configuration_files\\Maneuverlist.xml\"\n",
    "path2 = r\"C:\\data\\Dropbox\\AADC\\adtf\\configuration_files\\maps\\AADC_2018_Testevent_maps\\aadc_testevent_2018_signs_v_2_0.xml\"\n",
    "from xml.etree import ElementTree"
   ]
  },
  {
   "cell_type": "code",
   "execution_count": 70,
   "metadata": {},
   "outputs": [],
   "source": [
    "def parse_maneuver(path: str):\n",
    "    tree = ElementTree.parse(path)\n",
    "    sectors = []\n",
    "    for s in tree.getroot():\n",
    "        sid = s.attrib['id']\n",
    "        maneuvers = []\n",
    "        for m in sector:\n",
    "            mid = m.attrib['id']\n",
    "            action = map_maneuver_string(m.attrib['action'])\n",
    "            extra = int(m.attrib['extra']) if ('extra' in m.attrib and m.attrib['extra'].isnumeric()) else None\n",
    "            maneuvers.append((action, extra))\n",
    "        sectors.append(maneuvers)\n",
    "    return sectors\n",
    "\n",
    "def parse_roadsigns(path: str):\n",
    "    pass\n",
    "\n",
    "#parse_maneuver(path)\n",
    "parse_roadsigns(path2)\n",
    "\n",
    "from collections import namedtuple\n",
    "RoadSign = namedtuple('RoadSign', [\"id\", \"x\", \"y\", \"radius\", \"direction\", \"type\", \"init\"])\n",
    "ParkingSpace = namedtuple('ParkingSpace', [\"id\", \"x\", \"y\", \"status\", \"direction\"])"
   ]
  },
  {
   "cell_type": "code",
   "execution_count": 72,
   "metadata": {},
   "outputs": [
    {
     "name": "stdout",
     "output_type": "stream",
     "text": [
      "[ParkingSpace(id=8, x=18.0, y=8.25, status=0, direction=180), ParkingSpace(id=7, x=18.0, y=8.75, status=0, direction=180), ParkingSpace(id=6, x=18.0, y=9.25, status=0, direction=180), ParkingSpace(id=5, x=18.0, y=9.75, status=0, direction=180), ParkingSpace(id=4, x=16.0, y=8.75, status=0, direction=180), ParkingSpace(id=3, x=16.0, y=8.25, status=0, direction=180), ParkingSpace(id=2, x=16.0, y=7.75, status=0, direction=180), ParkingSpace(id=1, x=16.0, y=7.25, status=0, direction=180)]\n"
     ]
    }
   ],
   "source": [
    "tree = ElementTree.parse(path2)\n",
    "signs = []\n",
    "parking = []\n",
    "for e in tree.getroot():\n",
    "    if e.tag == \"roadSign\":\n",
    "        id_ = int(e.attrib[\"id\"])\n",
    "        x_ = float(e.attrib[\"x\"])\n",
    "        y_ = float(e.attrib[\"y\"])\n",
    "        radius_ = float(e.attrib[\"radius\"])\n",
    "        direction_ = int(e.attrib[\"direction\"])\n",
    "        type_ = map_roadsign_type(id_)\n",
    "        init_ = \"init\" in e.attrib and e.attrib[\"init\"].isnumeric() and int(e.attrib[\"init\"]) == 1\n",
    "        rs = RoadSign(id_, x_, y_, radius_, direction_, type_, init_)\n",
    "        signs.append(rs)        \n",
    "    elif e.tag == \"parkingSpace\":\n",
    "        id_ = int(e.attrib[\"id\"])\n",
    "        x_ = float(e.attrib[\"x\"])\n",
    "        y_ = float(e.attrib[\"y\"])\n",
    "        status_ = int(e.attrib[\"status\"])\n",
    "        direction_ = int(e.attrib[\"direction\"])\n",
    "        ps = ParkingSpace(id_, x_, y_, status_, direction_)\n",
    "        parking.append(ps)\n",
    "\n",
    "#print(signs)\n",
    "print(parking)"
   ]
  },
  {
   "cell_type": "code",
   "execution_count": null,
   "metadata": {},
   "outputs": [],
   "source": []
  },
  {
   "cell_type": "code",
   "execution_count": 73,
   "metadata": {},
   "outputs": [],
   "source": [
    "import time"
   ]
  },
  {
   "cell_type": "code",
   "execution_count": 77,
   "metadata": {},
   "outputs": [],
   "source": [
    "start = time.time()"
   ]
  },
  {
   "cell_type": "code",
   "execution_count": 84,
   "metadata": {},
   "outputs": [
    {
     "data": {
      "text/plain": [
       "24"
      ]
     },
     "execution_count": 84,
     "metadata": {},
     "output_type": "execute_result"
    }
   ],
   "source": [
    "end = time.time()\n",
    "int(end - start)"
   ]
  },
  {
   "cell_type": "code",
   "execution_count": 80,
   "metadata": {},
   "outputs": [
    {
     "data": {
      "text/plain": [
       "4.511585712432861"
      ]
     },
     "execution_count": 80,
     "metadata": {},
     "output_type": "execute_result"
    }
   ],
   "source": []
  },
  {
   "cell_type": "code",
   "execution_count": null,
   "metadata": {},
   "outputs": [],
   "source": []
  }
 ],
 "metadata": {
  "kernelspec": {
   "display_name": "Python 3",
   "language": "python",
   "name": "python3"
  },
  "language_info": {
   "codemirror_mode": {
    "name": "ipython",
    "version": 3
   },
   "file_extension": ".py",
   "mimetype": "text/x-python",
   "name": "python",
   "nbconvert_exporter": "python",
   "pygments_lexer": "ipython3",
   "version": "3.6.6"
  }
 },
 "nbformat": 4,
 "nbformat_minor": 2
}
