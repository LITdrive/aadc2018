{
 "cells": [
  {
   "cell_type": "code",
   "execution_count": 13,
   "metadata": {},
   "outputs": [],
   "source": [
    "import numpy as np\n",
    "\n",
    "from litdrive.zeromq.server import ZmqServer\n",
    "\n",
    "TRAJECTORY_ARRAY_SIZE = 10\n",
    "TRAJECTORY_NUM_FIELDS = 12"
   ]
  },
  {
   "cell_type": "code",
   "execution_count": 14,
   "metadata": {},
   "outputs": [],
   "source": [
    "def build_trajectory_array_buffer(trajectories):\n",
    "    if not trajectories or len(trajectories) == 0:\n",
    "        return None\n",
    "\n",
    "    assert len(trajectories) <= TRAJECTORY_ARRAY_SIZE\n",
    "    buffer = ([[0] * TRAJECTORY_NUM_FIELDS] * TRAJECTORY_ARRAY_SIZE)\n",
    "\n",
    "    for i, trajectory in enumerate(trajectories):\n",
    "        buffer[i] = trajectory\n",
    "\n",
    "    def _flatten(data):\n",
    "        return [item for sublist in data for item in sublist]\n",
    "\n",
    "    return [len(trajectories)] + _flatten(buffer)"
   ]
  },
  {
   "cell_type": "code",
   "execution_count": 19,
   "metadata": {},
   "outputs": [],
   "source": [
    "# open a server for the filter\n",
    "zmq = ZmqServer(\"tcp://*:5557\",\n",
    "                [\"tSignalValue\"],\n",
    "                [\"tTrajectory\", \"tTrajectoryArray\"])"
   ]
  },
  {
   "cell_type": "code",
   "execution_count": null,
   "metadata": {},
   "outputs": [],
   "source": [
    "def process(_):\n",
    "    trajectories = []\n",
    "\n",
    "    # create a trajectory\n",
    "    x = np.poly1d([1, 2, 3, 4])\n",
    "    y = np.poly1d([1, 2, 3, 4])\n",
    "    t1 = (42, *x.c, *y.c, 0, 1, False)\n",
    "    traj_list = [[1, 1.0, 3.0, 0, 0, 0.3, 0, 0, 0, 0.0, 1.0, false], [2, 3.9952610468117116, 2.0206452450494274, -1.6343288398544786, 0.3638816504006942, 0.29640852833373177, -0.10524904661576912, 1.8667688113651004, -1.0601398304865388, 0.0, 1.0, false], [3, 4.75, 0, 0, 0, 1.0, 1.0, 0, 0, 0.0, 1.0, false], [4, 4.74835287593694, 0.1841739862717955, -3.10433290115316, 1.175424652281273, 2.0021868938740806, 3.1603939930963354, -0.9870129997290068, -0.47682562786839433, 0.0, 1.0, false], [5, 3.0, -1.0, 0, 0, 3.7, 0, 0, 0, 0.0, 1.0, false], [6, 2.0304630239371155, -3.235305523528814, 1.3730152394151056, 0.16409658126758725, 3.7288073354191114, -0.3036732538081243, -1.5250352657277904, 0.13987157209282644, 0.0, 1.0, false], [7, 0.32, 0, 0, 0, 2.0, -1.0, 0, 0, 0.0, 1.0, false], [8, 0.32341785049048466, 0.0728448461473677, 0.6588196098948997, -0.052640267349361836, 1.0169617319674327, -1.4007740817665806, 0.5122483877334086, 0.1831935161357673, 0.0, 1.0, false]]\n",
    "    \n",
    "    # send up to 10 trajectories\n",
    "    for traj in traj_list:\n",
    "        trajectories.append(traj)\n",
    "    # trajectories.append(t2)\n",
    "    # trajectories.append(t3)\n",
    "    # ...\n",
    "\n",
    "    # you can also send a single trajectory here\n",
    "    trajectory = None\n",
    "\n",
    "    print(\"Sending trajectories ...\")\n",
    "\n",
    "    return trajectory, build_trajectory_array_buffer(trajectories)\n",
    "\n",
    "try:\n",
    "    zmq.connect()\n",
    "    zmq.run(process, return_dict=True)\n",
    "finally:\n",
    "    zmq.disconnect()"
   ]
  },
  {
   "cell_type": "code",
   "execution_count": 21,
   "metadata": {},
   "outputs": [
    {
     "name": "stdout",
     "output_type": "stream",
     "text": [
      "ss\n"
     ]
    }
   ],
   "source": [
    "print('ss')"
   ]
  },
  {
   "cell_type": "code",
   "execution_count": null,
   "metadata": {},
   "outputs": [],
   "source": []
  }
 ],
 "metadata": {
  "kernelspec": {
   "display_name": "Python 3",
   "language": "python",
   "name": "python3"
  },
  "language_info": {
   "codemirror_mode": {
    "name": "ipython",
    "version": 3
   },
   "file_extension": ".py",
   "mimetype": "text/x-python",
   "name": "python",
   "nbconvert_exporter": "python",
   "pygments_lexer": "ipython3",
   "version": "3.6.6"
  }
 },
 "nbformat": 4,
 "nbformat_minor": 2
}
