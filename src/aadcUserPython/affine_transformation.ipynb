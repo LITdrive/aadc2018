{
 "cells": [
  {
   "cell_type": "code",
   "execution_count": null,
   "metadata": {
    "collapsed": true
   },
   "outputs": [],
   "source": [
    "import cv2\n",
    "import numpy as np\n",
    " \n",
    "img = cv2.imread(\"/home/mohamed/scaledMap.png\")\n",
    "rows, cols, ch = img.shape\n",
    "\n",
    "# show track corners on image\n",
    "cv2.circle(img, (13, 9), 5, (0, 0, 255), -1)\n",
    "cv2.circle(img, (562, 9), 5, (0, 0, 255), -1)\n",
    "cv2.circle(img, (10, 723), 5, (0, 0, 255), -1)\n",
    "cv2.circle(img, (562, 721), 5, (0, 0, 255), -1)\n",
    " \n",
    "# pixels to cm, affine transformation only needs three points to calculate\n",
    "pts1 = np.float32([[13, 9], [562, 9], [10, 723]])\n",
    "pts2 = np.float32([[0, 0], [400, 0], [0, 500]])\n",
    " \n",
    "matrix = cv2.getAffineTransform(pts1, pts2)\n",
    "result = cv2.warpAffine(img, matrix, (cols, rows))\n",
    "\n",
    "transformed = np.dot(matrix, [165, 338,1])\n",
    "inverse = cv2.invert(np.vstack((matrix, [0,0,1])))\n",
    "original = np.dot(inverse[1], [111.75399121, 230.39215686, 1])\n",
    " \n",
    "cv2.imshow(\"Image\", img)\n",
    "cv2.imshow(\"Affine transformation\", result)\n",
    "cv2.waitKey(0)\n",
    "cv2.destroyAllWindows()"
   ]
  },
  {
   "cell_type": "code",
   "execution_count": null,
   "metadata": {
    "collapsed": true
   },
   "outputs": [],
   "source": [
    "# tryout perspective transformation\n",
    "# pts1 = np.float32([[13, 9], [562, 9], [10, 723], [562, 721]])\n",
    "# pts2 = np.float32([[0, 0], [400, 0], [0, 500], [500, 400]])\n",
    " \n",
    "# matrix = cv2.getPerspectiveTransform(pts1, pts2)\n",
    "# result = cv2.warpPerspective(img, matrix, (cols, rows))"
   ]
  }
 ],
 "metadata": {
  "kernelspec": {
   "display_name": "Python 3",
   "language": "python",
   "name": "python3"
  },
  "language_info": {
   "codemirror_mode": {
    "name": "ipython",
    "version": 2
   },
   "file_extension": ".py",
   "mimetype": "text/x-python",
   "name": "python",
   "nbconvert_exporter": "python",
   "pygments_lexer": "ipython2",
   "version": "2.7.13"
  }
 },
 "nbformat": 4,
 "nbformat_minor": 2
}
